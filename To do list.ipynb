{
 "cells": [
  {
   "cell_type": "code",
   "execution_count": 7,
   "id": "74e6204b-1d6e-4a41-b298-c35091f8d371",
   "metadata": {},
   "outputs": [],
   "source": [
    "import tkinter as tk\n",
    "\n",
    "def add_task():\n",
    "    task = task_entry.get()\n",
    "    if task:\n",
    "        task_listbox.insert(tk.END, task)\n",
    "        task_entry.delete(0, tk.END)\n",
    "\n",
    "def remove_task():\n",
    "    selected_task_index = task_listbox.curselection()\n",
    "    if selected_task_index:\n",
    "        task_listbox.delete(selected_task_index)\n",
    "\n",
    "# Create the main window\n",
    "root = tk.Tk()\n",
    "root.title(\"To-Do List\")\n",
    "root.geometry(\"400x650+400+100\")\n",
    "root.configure(bg=\"#f5f5f5\")  # Set background color\n",
    "\n",
    "# Create a listbox to display tasks\n",
    "task_listbox = tk.Listbox(root, bd=0, highlightthickness=0, relief=\"flat\", font=(\"Arial\", 12), selectbackground=\"#cfcfcf\", bg=\"#ffffff\")\n",
    "task_listbox.pack(pady=10, padx=10, fill=tk.BOTH, expand=True)\n",
    "\n",
    "# Create an entry widget to add new tasks\n",
    "task_entry = tk.Entry(root, font=(\"Arial\", 12))\n",
    "task_entry.pack(pady=5, padx=10, fill=tk.X)\n",
    "\n",
    "# Create Add and Remove buttons\n",
    "add_button = tk.Button(root, text=\"Add Task\", command=add_task, bg=\"#4CAF50\", fg=\"#ffffff\", font=(\"Arial\", 12), relief=\"flat\", padx=10, pady=5, borderwidth=0)\n",
    "remove_button = tk.Button(root, text=\"Remove Task\", command=remove_task, bg=\"#F44336\", fg=\"#ffffff\", font=(\"Arial\", 12), relief=\"flat\", padx=10, pady=5, borderwidth=0)\n",
    "add_button.pack(pady=5, padx=10, fill=tk.X)\n",
    "remove_button.pack(pady=5, padx=10, fill=tk.X)\n",
    "\n",
    "# Start the Tkinter main loop\n",
    "root.mainloop()\n"
   ]
  },
  {
   "cell_type": "code",
   "execution_count": null,
   "id": "c726f885-cf32-4aac-a3b2-87b8f7704b79",
   "metadata": {},
   "outputs": [],
   "source": []
  },
  {
   "cell_type": "code",
   "execution_count": null,
   "id": "94432f5c-cbf9-42be-b8af-a1335efc8dd7",
   "metadata": {},
   "outputs": [],
   "source": []
  }
 ],
 "metadata": {
  "kernelspec": {
   "display_name": "Python 3 (ipykernel)",
   "language": "python",
   "name": "python3"
  },
  "language_info": {
   "codemirror_mode": {
    "name": "ipython",
    "version": 3
   },
   "file_extension": ".py",
   "mimetype": "text/x-python",
   "name": "python",
   "nbconvert_exporter": "python",
   "pygments_lexer": "ipython3",
   "version": "3.12.3"
  }
 },
 "nbformat": 4,
 "nbformat_minor": 5
}
